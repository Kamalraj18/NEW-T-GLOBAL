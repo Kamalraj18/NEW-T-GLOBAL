{
 "cells": [
  {
   "cell_type": "code",
   "execution_count": 26,
   "id": "1e089fff-7885-41b7-9fef-1408113cce2e",
   "metadata": {},
   "outputs": [],
   "source": [
    "import findspark"
   ]
  },
  {
   "cell_type": "code",
   "execution_count": 27,
   "id": "2b7d8a31-f66e-4acf-b09f-a878ecdbf957",
   "metadata": {},
   "outputs": [],
   "source": [
    "findspark.init('/home/vboxuser/spark-3.5.0-bin-hadoop3')"
   ]
  },
  {
   "cell_type": "code",
   "execution_count": 28,
   "id": "aaa4438c-0194-4cb4-aaac-d7b617fef11d",
   "metadata": {},
   "outputs": [],
   "source": [
    "import pyspark"
   ]
  },
  {
   "cell_type": "code",
   "execution_count": 29,
   "id": "ab61cf90-15f4-448e-97c0-0a23c1785e41",
   "metadata": {},
   "outputs": [],
   "source": [
    "from pyspark.sql import SparkSession"
   ]
  },
  {
   "cell_type": "code",
   "execution_count": 30,
   "id": "b4acaed4-60b9-434e-af34-6fdcf66890d7",
   "metadata": {},
   "outputs": [],
   "source": [
    "spark = SparkSession.builder.appName('lr_example').getOrCreate()"
   ]
  },
  {
   "cell_type": "code",
   "execution_count": 34,
   "id": "0f2bfd14-1faf-4b6b-a8df-657f6a53a81c",
   "metadata": {},
   "outputs": [],
   "source": [
    "data = spark.read.csv('/home/vboxuser/Downloads/Ecommerce_Customers.csv',inferSchema=True, header=True)"
   ]
  },
  {
   "cell_type": "code",
   "execution_count": 35,
   "id": "9c9a3a03-58e2-4e14-ae3a-a4071cc59016",
   "metadata": {},
   "outputs": [],
   "source": [
    "data = data.na.drop(subset=['Yearly Amount Spent'])"
   ]
  },
  {
   "cell_type": "code",
   "execution_count": 37,
   "id": "b17433d8-a51b-4e9b-99ed-8ec9b996391c",
   "metadata": {},
   "outputs": [
    {
     "name": "stdout",
     "output_type": "stream",
     "text": [
      "+------------------+---------------+----------------+------------------+----------------+----------------+--------------------+-------------------+\n",
      "|             Email|        Address|          Avatar|Avg Session Length|     Time on App| Time on Website|Length of Membership|Yearly Amount Spent|\n",
      "+------------------+---------------+----------------+------------------+----------------+----------------+--------------------+-------------------+\n",
      "|       Wrightmouth| MI 82180-9605\"|          Violet|  34.4972677251123|12.6556511491668|39.5776680195262|    4.08262063295296|   587.951053968401|\n",
      "|       Diazchester| CA 06566-8576\"|       DarkGreen|  31.9262720263602|11.1094607286826|37.2689588682977|    2.66403418213262|   392.204933444326|\n",
      "|       Cobbborough| DC 99414-7564\"|          Bisque|  33.0009147556427|11.3302780577775|37.1105974421208|    4.10454320237642|   487.547504867472|\n",
      "|        Port Jason| OH 22070-1220\"|     SaddleBrown|  34.3055566297555|13.7175136651425|36.7212826779031|    3.12017878274809|   581.852344035218|\n",
      "|   Port Jacobville| PR 37242-1057\"|MediumAquaMarine|  33.3306725236464|12.7951885510781|37.5366533005947|    4.44630831835144|   599.406092045764|\n",
      "|    Jeffreychester| MN 67218-7250\"|     FloralWhite|   33.871037879342|12.0269253397551|34.4768776292505|     5.4935072013642|   637.102447915074|\n",
      "|        Josephbury| WV 92213-0247\"|   DarkSlateBlue|   32.021595501387|11.3663483097105|36.6837761528696|    4.68501724657091|   521.572174757827|\n",
      "|        West Debra| SD 97450-0495\"|          Salmon|  33.9877728956856|13.3862352756764|37.5344973415557|    3.27343357774771|   570.200408963619|\n",
      "|    Alexandriaport| WY 28244-9149\"|          Tomato|  33.9925727749537|13.3389754476621|37.2258061316211|     2.4826077705106|   492.606012717997|\n",
      "|    Lake Shanestad| MO 75696-5051\"|       RoyalBlue|  29.5324289670579|10.9612984001541|37.4202155750254|    4.04642316429959|   408.640351072628|\n",
      "|New Stephaniehaven|      MP 42268\"|          Bisque|  33.1903340437227|12.9592260916094|36.1446667000419|      3.918541839159|   573.415867331387|\n",
      "|      Samanthaland|      ND 44358\"|        DarkBlue|  32.3879758531539|13.1487256920565|36.6199570827992|    2.49454364665925|   470.452733300956|\n",
      "|       Phillipstad| OH 35641-3238\"|            Peru|  30.7377203726282|12.6366060520001|36.2137630936986|    3.35784684232629|    461.78074219623|\n",
      "|       Johnsonfurt|      GA 15169\"|      PowderBlue|  32.1253868972878|11.7338616908574|34.8940927514398|    3.13613271648978|   457.847695944949|\n",
      "|         Wilsonton|      PW 88606\"|       OliveDrab|  32.3388993230672|12.0131946940144|38.3851365941384|    2.42080616090148|   407.704547549544|\n",
      "|    Port Dannytown|      PW 63227\"|            Cyan|  32.1878120459322|14.7153875441565|38.2441145943435|    1.51657558083194|   452.315675480036|\n",
      "|    North Johnview|      MT 57912\"|   LightSeaGreen|  32.6178560628234|13.9895925558253| 37.190503800398|    4.06454855043798|   605.061038804892|\n",
      "|      North Teresa|      KY 50756\"|       PeachPuff|  32.9127851111598|11.3654920255162| 37.607792524207|      4.599937357615|   534.705743806023|\n",
      "|       Nicholsbury| WV 60804-4440\"|           Wheat|  34.5075509985266|12.8936695040717|37.6357558779059|    5.70515397060103|   700.917091617396|\n",
      "|         Glassport| ND 17957-5596\"|            Teal|  33.0293319535069|11.7658126454824|37.7385249455791|    2.72173599204522|   423.179991680598|\n",
      "+------------------+---------------+----------------+------------------+----------------+----------------+--------------------+-------------------+\n",
      "only showing top 20 rows\n",
      "\n"
     ]
    }
   ],
   "source": [
    "data.show()"
   ]
  },
  {
   "cell_type": "code",
   "execution_count": 39,
   "id": "b9ce8f43-1d60-4c13-9102-05490b051164",
   "metadata": {},
   "outputs": [
    {
     "name": "stdout",
     "output_type": "stream",
     "text": [
      "root\n",
      " |-- Email: string (nullable = true)\n",
      " |-- Address: string (nullable = true)\n",
      " |-- Avatar: string (nullable = true)\n",
      " |-- Avg Session Length: double (nullable = true)\n",
      " |-- Time on App: double (nullable = true)\n",
      " |-- Time on Website: double (nullable = true)\n",
      " |-- Length of Membership: double (nullable = true)\n",
      " |-- Yearly Amount Spent: double (nullable = true)\n",
      "\n"
     ]
    }
   ],
   "source": [
    "data.printSchema()"
   ]
  },
  {
   "cell_type": "code",
   "execution_count": 40,
   "id": "0d80a390-b329-4786-898a-5f8fa856d2a8",
   "metadata": {},
   "outputs": [],
   "source": [
    "from pyspark.ml.linalg import Vectors\n",
    "from pyspark.ml.feature import VectorAssembler"
   ]
  },
  {
   "cell_type": "code",
   "execution_count": 41,
   "id": "bb2678a3-02e2-477d-bcae-391ff90c245e",
   "metadata": {},
   "outputs": [
    {
     "data": {
      "text/plain": [
       "['Email',\n",
       " 'Address',\n",
       " 'Avatar',\n",
       " 'Avg Session Length',\n",
       " 'Time on App',\n",
       " 'Time on Website',\n",
       " 'Length of Membership',\n",
       " 'Yearly Amount Spent']"
      ]
     },
     "execution_count": 41,
     "metadata": {},
     "output_type": "execute_result"
    }
   ],
   "source": [
    "data.columns"
   ]
  },
  {
   "cell_type": "code",
   "execution_count": 42,
   "id": "f23bb51e-90f2-428c-b41e-ef16ad37d2fe",
   "metadata": {},
   "outputs": [],
   "source": [
    "assembler = VectorAssembler(\n",
    "    inputCols=[\"Avg Session Length\", \"Time on App\", \"Time on Website\", \"Length of Membership\"],\n",
    "    outputCol=\"features\",\n",
    "    handleInvalid=\"keep\"  # or \"skip\"\n",
    ")\n"
   ]
  },
  {
   "cell_type": "code",
   "execution_count": 43,
   "id": "cea4738d-4387-4a71-b56d-3a0b889d457a",
   "metadata": {},
   "outputs": [],
   "source": [
    "output = assembler.transform(data)"
   ]
  },
  {
   "cell_type": "code",
   "execution_count": 44,
   "id": "53cd863a-d104-460c-b723-fd4522f295da",
   "metadata": {},
   "outputs": [
    {
     "data": {
      "text/plain": [
       "[Row(Email='Wrightmouth', Address=' MI 82180-9605\"', Avatar='Violet', Avg Session Length=34.4972677251123, Time on App=12.6556511491668, Time on Website=39.5776680195262, Length of Membership=4.08262063295296, Yearly Amount Spent=587.951053968401, features=DenseVector([34.4973, 12.6557, 39.5777, 4.0826]))]"
      ]
     },
     "execution_count": 44,
     "metadata": {},
     "output_type": "execute_result"
    }
   ],
   "source": [
    "output.head(1)"
   ]
  },
  {
   "cell_type": "code",
   "execution_count": 45,
   "id": "d64fa6c6-11d0-4781-bd23-890029ac9bb3",
   "metadata": {},
   "outputs": [],
   "source": [
    "final_data = output.select('features','Yearly Amount Spent')"
   ]
  },
  {
   "cell_type": "code",
   "execution_count": 46,
   "id": "99480bfd-d7b8-49c2-963a-2cd8d968326e",
   "metadata": {},
   "outputs": [
    {
     "name": "stdout",
     "output_type": "stream",
     "text": [
      "+--------------------+-------------------+\n",
      "|            features|Yearly Amount Spent|\n",
      "+--------------------+-------------------+\n",
      "|[34.4972677251123...|   587.951053968401|\n",
      "|[31.9262720263602...|   392.204933444326|\n",
      "|[33.0009147556427...|   487.547504867472|\n",
      "|[34.3055566297555...|   581.852344035218|\n",
      "|[33.3306725236464...|   599.406092045764|\n",
      "|[33.871037879342,...|   637.102447915074|\n",
      "|[32.021595501387,...|   521.572174757827|\n",
      "|[33.9877728956856...|   570.200408963619|\n",
      "|[33.9925727749537...|   492.606012717997|\n",
      "|[29.5324289670579...|   408.640351072628|\n",
      "|[33.1903340437227...|   573.415867331387|\n",
      "|[32.3879758531539...|   470.452733300956|\n",
      "|[30.7377203726282...|    461.78074219623|\n",
      "|[32.1253868972878...|   457.847695944949|\n",
      "|[32.3388993230672...|   407.704547549544|\n",
      "|[32.1878120459322...|   452.315675480036|\n",
      "|[32.6178560628234...|   605.061038804892|\n",
      "|[32.9127851111598...|   534.705743806023|\n",
      "|[34.5075509985266...|   700.917091617396|\n",
      "|[33.0293319535069...|   423.179991680598|\n",
      "+--------------------+-------------------+\n",
      "only showing top 20 rows\n",
      "\n"
     ]
    }
   ],
   "source": [
    "final_data.show()"
   ]
  },
  {
   "cell_type": "code",
   "execution_count": 47,
   "id": "f8dcfd4a-59e8-4097-ae50-2481d5af1ffc",
   "metadata": {},
   "outputs": [],
   "source": [
    "train_data, test_data = final_data.randomSplit([0.7,0.3])"
   ]
  },
  {
   "cell_type": "code",
   "execution_count": 48,
   "id": "04a2d622-f904-4688-a7a7-0af9f9630187",
   "metadata": {},
   "outputs": [],
   "source": [
    "from pyspark.ml.regression import LinearRegression\n",
    "\n",
    "# Now you can use LinearRegression in your code\n",
    "lr = LinearRegression(labelCol='Yearly Amount Spent', regParam=0.01)\n"
   ]
  },
  {
   "cell_type": "code",
   "execution_count": 24,
   "id": "1c1f7227-fc80-4728-b2ca-ca478590c085",
   "metadata": {},
   "outputs": [],
   "source": [
    "# Assuming 'label' is your label column\n",
    "data = data.na.drop(subset=['Yearly Amount Spent'])\n"
   ]
  },
  {
   "cell_type": "code",
   "execution_count": 49,
   "id": "5e922607-90ab-4a0b-934d-c1d0f4d1ebca",
   "metadata": {},
   "outputs": [
    {
     "name": "stderr",
     "output_type": "stream",
     "text": [
      "24/01/10 22:14:59 WARN InstanceBuilder: Failed to load implementation from:dev.ludovic.netlib.blas.JNIBLAS\n",
      "24/01/10 22:14:59 WARN InstanceBuilder: Failed to load implementation from:dev.ludovic.netlib.lapack.JNILAPACK\n",
      "                                                                                \r"
     ]
    }
   ],
   "source": [
    "lr_model = lr.fit(train_data)"
   ]
  },
  {
   "cell_type": "code",
   "execution_count": 50,
   "id": "61bc685a-4074-4241-a0b3-2b53b85f036b",
   "metadata": {},
   "outputs": [],
   "source": [
    "test_results = lr_model.evaluate(test_data)"
   ]
  },
  {
   "cell_type": "code",
   "execution_count": 51,
   "id": "5be1ec16-1841-4129-830b-22aef735ce0c",
   "metadata": {},
   "outputs": [
    {
     "name": "stdout",
     "output_type": "stream",
     "text": [
      "+-------------------+\n",
      "|          residuals|\n",
      "+-------------------+\n",
      "|  4.907099923562953|\n",
      "| -4.680772856896851|\n",
      "| 4.7517971847234435|\n",
      "| 19.025434617524127|\n",
      "|-3.8260329731140246|\n",
      "|-0.8225975741752904|\n",
      "| -8.421046371832972|\n",
      "| 0.7100483722109061|\n",
      "|  3.981077624315219|\n",
      "|  17.75701527196628|\n",
      "| 17.882875942013925|\n",
      "|  5.071181679215215|\n",
      "|-11.185533051730658|\n",
      "|-2.1108715810296985|\n",
      "|  0.810929639620042|\n",
      "| -2.393573042398657|\n",
      "| 3.1752142618909147|\n",
      "|0.18476938929546805|\n",
      "| 3.0190307489078805|\n",
      "| -1.916806401206884|\n",
      "+-------------------+\n",
      "only showing top 20 rows\n",
      "\n"
     ]
    }
   ],
   "source": [
    "test_results.residuals.show()"
   ]
  },
  {
   "cell_type": "code",
   "execution_count": 52,
   "id": "c4f1d5cc-7f7e-4260-a4f8-0714c00ad04c",
   "metadata": {},
   "outputs": [],
   "source": [
    "unlabled_data = test_data.select('features')"
   ]
  },
  {
   "cell_type": "code",
   "execution_count": 53,
   "id": "da4151f6-ac2c-479b-a2cf-c295fcb5af4e",
   "metadata": {},
   "outputs": [
    {
     "name": "stdout",
     "output_type": "stream",
     "text": [
      "+--------------------+\n",
      "|            features|\n",
      "+--------------------+\n",
      "|[31.0472221394875...|\n",
      "|[31.0613251567161...|\n",
      "|[31.3662121671877...|\n",
      "|[31.6005122003033...|\n",
      "|[31.6253601348306...|\n",
      "|[31.721652360509,...|\n",
      "|[31.8854062999118...|\n",
      "|[32.0047530203648...|\n",
      "|[32.0123007682454...|\n",
      "|[32.0180740106321...|\n",
      "|[32.0478146331398...|\n",
      "|[32.0542618511848...|\n",
      "|[32.0637746203137...|\n",
      "|[32.0775900443291...|\n",
      "|[32.0961089938452...|\n",
      "|[32.1223647957978...|\n",
      "|[32.1898447292735...|\n",
      "|[32.2046546456785...|\n",
      "|[32.2301491159331...|\n",
      "|[32.2620031069949...|\n",
      "+--------------------+\n",
      "only showing top 20 rows\n",
      "\n"
     ]
    }
   ],
   "source": [
    "unlabled_data.show()"
   ]
  },
  {
   "cell_type": "code",
   "execution_count": 55,
   "id": "0916aaa9-ff6b-4063-9b4b-e8ccc3d2f00f",
   "metadata": {},
   "outputs": [],
   "source": [
    "predictions = lr_model.transform(unlabled_data)"
   ]
  },
  {
   "cell_type": "code",
   "execution_count": 56,
   "id": "fa20ca7b-f6e5-49d4-a501-a39162655ce5",
   "metadata": {},
   "outputs": [
    {
     "name": "stdout",
     "output_type": "stream",
     "text": [
      "+--------------------+------------------+\n",
      "|            features|        prediction|\n",
      "+--------------------+------------------+\n",
      "|[31.0472221394875...|387.59029926545804|\n",
      "|[31.0613251567161...|492.23623091479885|\n",
      "|[31.3662121671877...|425.83708537176153|\n",
      "|[31.6005122003033...|460.14741687357287|\n",
      "|[31.6253601348306...|380.16293373003805|\n",
      "|[31.721652360509,...| 348.5995242060483|\n",
      "|[31.8854062999118...|398.52431934430797|\n",
      "|[32.0047530203648...| 463.0359327484191|\n",
      "|[32.0123007682454...| 488.9639754416428|\n",
      "|[32.0180740106321...|340.02609547334873|\n",
      "|[32.0478146331398...| 479.5066818168291|\n",
      "|[32.0542618511848...| 556.8034759897678|\n",
      "|[32.0637746203137...|389.51643995853465|\n",
      "|[32.0775900443291...| 403.1440068001357|\n",
      "|[32.0961089938452...|374.58752577062296|\n",
      "|[32.1223647957978...| 531.3271916074186|\n",
      "|[32.1898447292735...| 530.2213395249521|\n",
      "|[32.2046546456785...| 478.3995166190475|\n",
      "|[32.2301491159331...| 514.1461048450701|\n",
      "|[32.2620031069949...| 444.2799237850709|\n",
      "+--------------------+------------------+\n",
      "only showing top 20 rows\n",
      "\n"
     ]
    }
   ],
   "source": [
    "predictions.show()"
   ]
  },
  {
   "cell_type": "code",
   "execution_count": null,
   "id": "edea509b-7f10-4b4e-9141-a2d0c6e08252",
   "metadata": {},
   "outputs": [],
   "source": []
  }
 ],
 "metadata": {
  "kernelspec": {
   "display_name": "Python 3 (ipykernel)",
   "language": "python",
   "name": "python3"
  },
  "language_info": {
   "codemirror_mode": {
    "name": "ipython",
    "version": 3
   },
   "file_extension": ".py",
   "mimetype": "text/x-python",
   "name": "python",
   "nbconvert_exporter": "python",
   "pygments_lexer": "ipython3",
   "version": "3.10.12"
  }
 },
 "nbformat": 4,
 "nbformat_minor": 5
}
