{
 "cells": [
  {
   "cell_type": "code",
   "execution_count": 1,
   "id": "a2775831-9a1f-4830-9501-576bac7135e8",
   "metadata": {},
   "outputs": [],
   "source": [
    "import findspark"
   ]
  },
  {
   "cell_type": "code",
   "execution_count": 2,
   "id": "3f881cf6-1f69-4d1b-8bda-973e0f6eb749",
   "metadata": {},
   "outputs": [],
   "source": [
    "findspark.init('/home/vboxuser/spark-3.5.0-bin-hadoop3')"
   ]
  },
  {
   "cell_type": "code",
   "execution_count": 3,
   "id": "3b919c0d-5457-40f5-b783-e9e83da4b34a",
   "metadata": {},
   "outputs": [],
   "source": [
    "import pyspark"
   ]
  },
  {
   "cell_type": "code",
   "execution_count": 4,
   "id": "70c664e3-f497-4420-a310-6bef6d276667",
   "metadata": {},
   "outputs": [],
   "source": [
    "from pyspark.sql import SparkSession"
   ]
  },
  {
   "cell_type": "code",
   "execution_count": 5,
   "id": "c7fb0d6f-d786-4f11-9097-57e7a51e324a",
   "metadata": {},
   "outputs": [
    {
     "name": "stderr",
     "output_type": "stream",
     "text": [
      "Setting default log level to \"WARN\".\n",
      "To adjust logging level use sc.setLogLevel(newLevel). For SparkR, use setLogLevel(newLevel).\n",
      "24/01/10 23:22:32 WARN NativeCodeLoader: Unable to load native-hadoop library for your platform... using builtin-java classes where applicable\n"
     ]
    }
   ],
   "source": [
    "spark = SparkSession.builder.appName('mylogreg').getOrCreate()"
   ]
  },
  {
   "cell_type": "code",
   "execution_count": 6,
   "id": "70506caf-bcd6-4256-888d-7854a656df82",
   "metadata": {},
   "outputs": [],
   "source": [
    "from pyspark.ml.classification import LogisticRegression"
   ]
  },
  {
   "cell_type": "code",
   "execution_count": 7,
   "id": "57bad96d-0f0d-4049-83b1-d98ba7a88e24",
   "metadata": {},
   "outputs": [
    {
     "name": "stderr",
     "output_type": "stream",
     "text": [
      "24/01/10 23:26:39 WARN LibSVMFileFormat: 'numFeatures' option not specified, determining the number of features by going though the input. If you know the number in advance, please specify it via 'numFeatures' option to avoid the extra scan.\n",
      "                                                                                \r"
     ]
    }
   ],
   "source": [
    "my_data = spark.read.format('libsvm').load('/home/vboxuser/Downloads/sample_libsvm_data.txt')"
   ]
  },
  {
   "cell_type": "code",
   "execution_count": 8,
   "id": "a979d8ff-161f-4808-b5fb-c6a1f3ff91de",
   "metadata": {},
   "outputs": [
    {
     "name": "stdout",
     "output_type": "stream",
     "text": [
      "+-----+--------------------+\n",
      "|label|            features|\n",
      "+-----+--------------------+\n",
      "|  0.0|(692,[127,128,129...|\n",
      "|  1.0|(692,[158,159,160...|\n",
      "|  1.0|(692,[124,125,126...|\n",
      "|  1.0|(692,[152,153,154...|\n",
      "|  1.0|(692,[151,152,153...|\n",
      "|  0.0|(692,[129,130,131...|\n",
      "|  1.0|(692,[158,159,160...|\n",
      "|  1.0|(692,[99,100,101,...|\n",
      "|  0.0|(692,[154,155,156...|\n",
      "|  0.0|(692,[127,128,129...|\n",
      "|  1.0|(692,[154,155,156...|\n",
      "|  0.0|(692,[153,154,155...|\n",
      "|  0.0|(692,[151,152,153...|\n",
      "|  1.0|(692,[129,130,131...|\n",
      "|  0.0|(692,[154,155,156...|\n",
      "|  1.0|(692,[150,151,152...|\n",
      "|  0.0|(692,[124,125,126...|\n",
      "|  0.0|(692,[152,153,154...|\n",
      "|  1.0|(692,[97,98,99,12...|\n",
      "|  1.0|(692,[124,125,126...|\n",
      "+-----+--------------------+\n",
      "only showing top 20 rows\n",
      "\n"
     ]
    },
    {
     "name": "stderr",
     "output_type": "stream",
     "text": [
      "                                                                                \r"
     ]
    }
   ],
   "source": [
    "my_data.show()"
   ]
  },
  {
   "cell_type": "code",
   "execution_count": 9,
   "id": "3a1b572c-9ffd-47b6-aa27-38e6b2dbe407",
   "metadata": {},
   "outputs": [],
   "source": [
    "my_log_reg_model = LogisticRegression()"
   ]
  },
  {
   "cell_type": "code",
   "execution_count": 10,
   "id": "2713dbb9-35eb-41c8-9001-77730e996107",
   "metadata": {},
   "outputs": [
    {
     "name": "stderr",
     "output_type": "stream",
     "text": [
      "24/01/10 23:29:49 WARN InstanceBuilder: Failed to load implementation from:dev.ludovic.netlib.blas.JNIBLAS\n"
     ]
    }
   ],
   "source": [
    "fitted_logreg = my_log_reg_model.fit(my_data)"
   ]
  },
  {
   "cell_type": "code",
   "execution_count": 11,
   "id": "5f915d40-4f81-4e67-8110-7ca20aa6aae8",
   "metadata": {},
   "outputs": [],
   "source": [
    "log_summary = fitted_logreg.summary"
   ]
  },
  {
   "cell_type": "code",
   "execution_count": 12,
   "id": "ca02d0e2-0df5-4d58-b55b-641194ba101f",
   "metadata": {},
   "outputs": [
    {
     "name": "stdout",
     "output_type": "stream",
     "text": [
      "root\n",
      " |-- label: double (nullable = true)\n",
      " |-- features: vector (nullable = true)\n",
      " |-- rawPrediction: vector (nullable = true)\n",
      " |-- probability: vector (nullable = true)\n",
      " |-- prediction: double (nullable = false)\n",
      "\n"
     ]
    }
   ],
   "source": [
    "log_summary.predictions.printSchema()"
   ]
  },
  {
   "cell_type": "code",
   "execution_count": 13,
   "id": "63a6f241-280f-4ebb-90a6-fd205a422102",
   "metadata": {},
   "outputs": [],
   "source": [
    "lr_train,lr_test = my_data.randomSplit([0.7,0.3])"
   ]
  },
  {
   "cell_type": "code",
   "execution_count": 14,
   "id": "b88ac5f8-ed6a-4e37-8765-47b8ff9d63d7",
   "metadata": {},
   "outputs": [],
   "source": [
    "final_model = LogisticRegression()"
   ]
  },
  {
   "cell_type": "code",
   "execution_count": 15,
   "id": "3164fdae-f087-4281-bc85-8bc85f258dff",
   "metadata": {},
   "outputs": [],
   "source": [
    "fit_final = final_model.fit(lr_train)"
   ]
  },
  {
   "cell_type": "code",
   "execution_count": 16,
   "id": "9649cb1f-ed89-4074-a739-de6a79be8182",
   "metadata": {},
   "outputs": [],
   "source": [
    "prediction_and_labels = fit_final.evaluate(lr_test)"
   ]
  },
  {
   "cell_type": "code",
   "execution_count": 17,
   "id": "d65d0de5-8fd2-46c7-a7d5-4b2ab02fefbe",
   "metadata": {},
   "outputs": [
    {
     "name": "stdout",
     "output_type": "stream",
     "text": [
      "+-----+--------------------+--------------------+--------------------+----------+\n",
      "|label|            features|       rawPrediction|         probability|prediction|\n",
      "+-----+--------------------+--------------------+--------------------+----------+\n",
      "|  0.0|(692,[98,99,100,1...|[32.0292171926834...|[0.99999999999998...|       0.0|\n",
      "|  0.0|(692,[122,123,148...|[18.4397749219685...|[0.99999999018913...|       0.0|\n",
      "|  0.0|(692,[123,124,125...|[29.6568748697297...|[0.99999999999986...|       0.0|\n",
      "|  0.0|(692,[126,127,128...|[27.5968074060158...|[0.99999999999896...|       0.0|\n",
      "|  0.0|(692,[126,127,128...|[36.2461099989588...|[0.99999999999999...|       0.0|\n",
      "|  0.0|(692,[126,127,128...|[26.6442309258328...|[0.99999999999731...|       0.0|\n",
      "|  0.0|(692,[127,128,129...|[24.9962587312099...|[0.99999999998606...|       0.0|\n",
      "|  0.0|(692,[129,130,131...|[17.5051264955195...|[0.99999997501840...|       0.0|\n",
      "|  0.0|(692,[151,152,153...|[31.7346761025578...|[0.99999999999998...|       0.0|\n",
      "|  1.0|(692,[99,100,101,...|[-6.8970608299391...|[0.00100973125134...|       1.0|\n",
      "|  1.0|(692,[100,101,102...|[13.6592998350768...|[0.99999883092883...|       0.0|\n",
      "|  1.0|(692,[124,125,126...|[-26.022870847462...|[4.99356592342230...|       1.0|\n",
      "|  1.0|(692,[124,125,126...|[-18.088758825992...|[1.39364400627338...|       1.0|\n",
      "|  1.0|(692,[124,125,126...|[-22.040861166912...|[2.67778447115891...|       1.0|\n",
      "|  1.0|(692,[125,126,127...|[-23.280292557520...|[7.7534931072549E...|       1.0|\n",
      "|  1.0|(692,[126,127,128...|[-30.207404686822...|[7.60485314417360...|       1.0|\n",
      "|  1.0|(692,[126,127,128...|[-29.144999438489...|[2.20032872670796...|       1.0|\n",
      "|  1.0|(692,[126,127,128...|[-22.205071023734...|[2.27227130463012...|       1.0|\n",
      "|  1.0|(692,[127,128,129...|[-22.664590553212...|[1.43513708832769...|       1.0|\n",
      "|  1.0|(692,[127,128,129...|[-28.633488318413...|[3.66972926837000...|       1.0|\n",
      "+-----+--------------------+--------------------+--------------------+----------+\n",
      "only showing top 20 rows\n",
      "\n"
     ]
    }
   ],
   "source": [
    "prediction_and_labels.predictions.show()"
   ]
  },
  {
   "cell_type": "code",
   "execution_count": 21,
   "id": "c0a06b81-ea43-4893-92dd-9b8876c2b4c8",
   "metadata": {},
   "outputs": [],
   "source": [
    "from pyspark.ml.evaluation import BinaryClassificationEvaluator, MulticlassClassificationEvaluator"
   ]
  },
  {
   "cell_type": "code",
   "execution_count": 22,
   "id": "283f84b0-935c-4461-b1cb-c72097e88a09",
   "metadata": {},
   "outputs": [],
   "source": [
    "my_eval = BinaryClassificationEvaluator()"
   ]
  },
  {
   "cell_type": "code",
   "execution_count": 23,
   "id": "da415040-9704-415c-95b5-1aafdfdb45a8",
   "metadata": {},
   "outputs": [],
   "source": [
    "my_final_roc = my_eval.evaluate(prediction_and_labels.predictions)"
   ]
  },
  {
   "cell_type": "code",
   "execution_count": 24,
   "id": "ca369679-3325-45f5-9bcb-e4ab9fbc3b73",
   "metadata": {},
   "outputs": [
    {
     "data": {
      "text/plain": [
       "1.0"
      ]
     },
     "execution_count": 24,
     "metadata": {},
     "output_type": "execute_result"
    }
   ],
   "source": [
    "my_final_roc"
   ]
  },
  {
   "cell_type": "code",
   "execution_count": null,
   "id": "12aec219-3590-47c1-b223-11fe9dfadae4",
   "metadata": {},
   "outputs": [],
   "source": []
  }
 ],
 "metadata": {
  "kernelspec": {
   "display_name": "Python 3 (ipykernel)",
   "language": "python",
   "name": "python3"
  },
  "language_info": {
   "codemirror_mode": {
    "name": "ipython",
    "version": 3
   },
   "file_extension": ".py",
   "mimetype": "text/x-python",
   "name": "python",
   "nbconvert_exporter": "python",
   "pygments_lexer": "ipython3",
   "version": "3.10.12"
  }
 },
 "nbformat": 4,
 "nbformat_minor": 5
}
