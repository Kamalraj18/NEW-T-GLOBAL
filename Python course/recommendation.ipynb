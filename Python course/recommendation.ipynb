{
 "cells": [
  {
   "cell_type": "code",
   "execution_count": 1,
   "id": "30a2fd06-0d29-432c-b5cf-80033464bb82",
   "metadata": {},
   "outputs": [],
   "source": [
    "import findspark"
   ]
  },
  {
   "cell_type": "code",
   "execution_count": 2,
   "id": "b74c45bf-9666-4e47-a46d-2a7e1e3112f7",
   "metadata": {},
   "outputs": [],
   "source": [
    "findspark.init('/home/vboxuser/spark-3.5.0-bin-hadoop3')"
   ]
  },
  {
   "cell_type": "code",
   "execution_count": 3,
   "id": "33ffa176-6add-4636-b891-6433f03dde69",
   "metadata": {},
   "outputs": [],
   "source": [
    "import pyspark"
   ]
  },
  {
   "cell_type": "code",
   "execution_count": 4,
   "id": "05d15a31-03db-4dd0-ba53-7b173be71216",
   "metadata": {},
   "outputs": [],
   "source": [
    "from pyspark.sql import SparkSession"
   ]
  },
  {
   "cell_type": "code",
   "execution_count": 6,
   "id": "620c9b47-c575-4db5-8e72-4ab0ad60fba1",
   "metadata": {},
   "outputs": [],
   "source": [
    "spark = SparkSession.builder.appName('rating').getOrCreate()"
   ]
  },
  {
   "cell_type": "code",
   "execution_count": 7,
   "id": "4257d9c9-a4f9-425e-b48b-e0c4352704d6",
   "metadata": {},
   "outputs": [],
   "source": [
    "from pyspark.ml.recommendation import ALS"
   ]
  },
  {
   "cell_type": "code",
   "execution_count": 8,
   "id": "dfab59d9-c411-4663-8b32-3bce324a5cba",
   "metadata": {},
   "outputs": [],
   "source": [
    "from pyspark.ml.evaluation import RegressionEvaluator"
   ]
  },
  {
   "cell_type": "code",
   "execution_count": 21,
   "id": "e394ef34-510a-4b93-b5de-6dac59cf70e2",
   "metadata": {},
   "outputs": [
    {
     "name": "stdout",
     "output_type": "stream",
     "text": [
      "Defaulting to user installation because normal site-packages is not writeable\n",
      "Collecting pandas\n",
      "  Downloading pandas-2.1.4-cp310-cp310-manylinux_2_17_x86_64.manylinux2014_x86_64.whl (12.3 MB)\n",
      "\u001b[2K     \u001b[38;2;114;156;31m━━━━━━━━━━━━━━━━━━━━━━━━━━━━━━━━━━━━━━━━\u001b[0m \u001b[32m12.3/12.3 MB\u001b[0m \u001b[31m1.4 MB/s\u001b[0m eta \u001b[36m0:00:00\u001b[0mm eta \u001b[36m0:00:01\u001b[0m[36m0:00:01\u001b[0m\n",
      "\u001b[?25hRequirement already satisfied: pytz>=2020.1 in /usr/lib/python3/dist-packages (from pandas) (2022.1)\n",
      "Requirement already satisfied: numpy<2,>=1.22.4 in ./.local/lib/python3.10/site-packages (from pandas) (1.26.3)\n",
      "Requirement already satisfied: python-dateutil>=2.8.2 in ./.local/lib/python3.10/site-packages (from pandas) (2.8.2)\n",
      "Collecting tzdata>=2022.1\n",
      "  Downloading tzdata-2023.4-py2.py3-none-any.whl (346 kB)\n",
      "\u001b[2K     \u001b[38;2;114;156;31m━━━━━━━━━━━━━━━━━━━━━━━━━━━━━━━━━━━━━━━\u001b[0m \u001b[32m346.6/346.6 KB\u001b[0m \u001b[31m1.6 MB/s\u001b[0m eta \u001b[36m0:00:00\u001b[0m MB/s\u001b[0m eta \u001b[36m0:00:01\u001b[0m:01\u001b[0m\n",
      "\u001b[?25hRequirement already satisfied: six>=1.5 in ./.local/lib/python3.10/site-packages (from python-dateutil>=2.8.2->pandas) (1.16.0)\n",
      "Installing collected packages: tzdata, pandas\n",
      "Successfully installed pandas-2.1.4 tzdata-2023.4\n"
     ]
    }
   ],
   "source": [
    "!pip install pandas"
   ]
  },
  {
   "cell_type": "code",
   "execution_count": 22,
   "id": "5790bb7a-489f-4a4b-bf99-2858e1785f6f",
   "metadata": {},
   "outputs": [],
   "source": [
    "import pandas as pd\n",
    "data = pd.read_csv('/home/vboxuser/Downloads/ratings.csv', delimiter='\\t')"
   ]
  },
  {
   "cell_type": "code",
   "execution_count": 24,
   "id": "0adda60a-61a7-4a49-8347-11ee6bc6f7ef",
   "metadata": {},
   "outputs": [],
   "source": [
    "spark_data = spark.createDataFrame(data)"
   ]
  },
  {
   "cell_type": "code",
   "execution_count": 25,
   "id": "67794204-24c5-4b0a-b36e-66272e7394d6",
   "metadata": {},
   "outputs": [
    {
     "data": {
      "text/plain": [
       "['Unnamed: 0',\n",
       " 'user_id',\n",
       " 'movie_id',\n",
       " 'rating',\n",
       " 'timestamp',\n",
       " 'user_emb_id',\n",
       " 'movie_emb_id']"
      ]
     },
     "execution_count": 25,
     "metadata": {},
     "output_type": "execute_result"
    }
   ],
   "source": [
    "spark_data.columns"
   ]
  },
  {
   "cell_type": "code",
   "execution_count": 14,
   "id": "d04cab1e-b8f7-4cb8-b2e2-42867e03cb31",
   "metadata": {},
   "outputs": [
    {
     "ename": "TypeError",
     "evalue": "object of type 'DataFrame' has no len()",
     "output_type": "error",
     "traceback": [
      "\u001b[0;31m---------------------------------------------------------------------------\u001b[0m",
      "\u001b[0;31mTypeError\u001b[0m                                 Traceback (most recent call last)",
      "Cell \u001b[0;32mIn[14], line 1\u001b[0m\n\u001b[0;32m----> 1\u001b[0m \u001b[38;5;28;43mlen\u001b[39;49m\u001b[43m(\u001b[49m\u001b[43mdata\u001b[49m\u001b[43m)\u001b[49m\n",
      "\u001b[0;31mTypeError\u001b[0m: object of type 'DataFrame' has no len()"
     ]
    }
   ],
   "source": [
    "len(data)"
   ]
  },
  {
   "cell_type": "code",
   "execution_count": 15,
   "id": "6595bafc-091a-43c1-9ab8-30b60b13a300",
   "metadata": {},
   "outputs": [
    {
     "name": "stderr",
     "output_type": "stream",
     "text": [
      "                                                                                \r"
     ]
    },
    {
     "data": {
      "text/plain": [
       "1000209"
      ]
     },
     "execution_count": 15,
     "metadata": {},
     "output_type": "execute_result"
    }
   ],
   "source": [
    "data.count()"
   ]
  },
  {
   "cell_type": "code",
   "execution_count": 26,
   "id": "e2a3f3fc-a684-4739-953f-beb6dce9dd0e",
   "metadata": {},
   "outputs": [
    {
     "name": "stderr",
     "output_type": "stream",
     "text": [
      "24/01/11 12:31:11 WARN TaskSetManager: Stage 8 contains a task of very large size (6367 KiB). The maximum recommended task size is 1000 KiB.\n",
      "[Stage 8:>                                                          (0 + 1) / 1]\r"
     ]
    },
    {
     "name": "stdout",
     "output_type": "stream",
     "text": [
      "+----------+-------+--------+------+---------+-----------+------------+\n",
      "|Unnamed: 0|user_id|movie_id|rating|timestamp|user_emb_id|movie_emb_id|\n",
      "+----------+-------+--------+------+---------+-----------+------------+\n",
      "|         0|      1|    1193|     5|978300760|          0|        1192|\n",
      "|         1|      1|     661|     3|978302109|          0|         660|\n",
      "|         2|      1|     914|     3|978301968|          0|         913|\n",
      "|         3|      1|    3408|     4|978300275|          0|        3407|\n",
      "|         4|      1|    2355|     5|978824291|          0|        2354|\n",
      "|         5|      1|    1197|     3|978302268|          0|        1196|\n",
      "|         6|      1|    1287|     5|978302039|          0|        1286|\n",
      "|         7|      1|    2804|     5|978300719|          0|        2803|\n",
      "|         8|      1|     594|     4|978302268|          0|         593|\n",
      "|         9|      1|     919|     4|978301368|          0|         918|\n",
      "|        10|      1|     595|     5|978824268|          0|         594|\n",
      "|        11|      1|     938|     4|978301752|          0|         937|\n",
      "|        12|      1|    2398|     4|978302281|          0|        2397|\n",
      "|        13|      1|    2918|     4|978302124|          0|        2917|\n",
      "|        14|      1|    1035|     5|978301753|          0|        1034|\n",
      "|        15|      1|    2791|     4|978302188|          0|        2790|\n",
      "|        16|      1|    2687|     3|978824268|          0|        2686|\n",
      "|        17|      1|    2018|     4|978301777|          0|        2017|\n",
      "|        18|      1|    3105|     5|978301713|          0|        3104|\n",
      "|        19|      1|    2797|     4|978302039|          0|        2796|\n",
      "+----------+-------+--------+------+---------+-----------+------------+\n",
      "only showing top 20 rows\n",
      "\n"
     ]
    },
    {
     "name": "stderr",
     "output_type": "stream",
     "text": [
      "                                                                                \r"
     ]
    }
   ],
   "source": [
    "spark_data.show()"
   ]
  },
  {
   "cell_type": "code",
   "execution_count": 28,
   "id": "87651c3e-3677-4398-a7f6-7c252e24340f",
   "metadata": {},
   "outputs": [
    {
     "name": "stderr",
     "output_type": "stream",
     "text": [
      "24/01/11 12:36:45 WARN SparkStringUtils: Truncated the string representation of a plan since it was too large. This behavior can be adjusted by setting 'spark.sql.debug.maxToStringFields'.\n",
      "24/01/11 12:36:46 WARN TaskSetManager: Stage 9 contains a task of very large size (6367 KiB). The maximum recommended task size is 1000 KiB.\n",
      "[Stage 9:=============================>                             (2 + 2) / 4]\r"
     ]
    },
    {
     "name": "stdout",
     "output_type": "stream",
     "text": [
      "+-------+------------------+------------------+------------------+------------------+--------------------+-----------------+------------------+\n",
      "|summary|        Unnamed: 0|           user_id|          movie_id|            rating|           timestamp|      user_emb_id|      movie_emb_id|\n",
      "+-------+------------------+------------------+------------------+------------------+--------------------+-----------------+------------------+\n",
      "|  count|           1000209|           1000209|           1000209|           1000209|             1000209|          1000209|           1000209|\n",
      "|   mean|          500104.0| 3024.512347919285|1865.5398981612843| 3.581564453029317| 9.722436954046655E8|3023.512347919285|1864.5398981612843|\n",
      "| stddev|288735.61203547445|1728.4126949000054|1096.0406894572582|1.1171018453732544|1.2152558939912412E7|1728.412694900005|1096.0406894572582|\n",
      "|    min|                 0|                 1|                 1|                 1|           956703932|                0|                 0|\n",
      "|    max|           1000208|              6040|              3952|                 5|          1046454590|             6039|              3951|\n",
      "+-------+------------------+------------------+------------------+------------------+--------------------+-----------------+------------------+\n",
      "\n"
     ]
    },
    {
     "name": "stderr",
     "output_type": "stream",
     "text": [
      "                                                                                \r"
     ]
    }
   ],
   "source": [
    "spark_data.describe().show()"
   ]
  },
  {
   "cell_type": "code",
   "execution_count": 29,
   "id": "edc6d7b4-2a68-4090-9efa-c8acd09eab34",
   "metadata": {},
   "outputs": [],
   "source": [
    "main_dataset,other_dataset = spark_data.randomSplit([0.1,0.9])"
   ]
  },
  {
   "cell_type": "code",
   "execution_count": 30,
   "id": "7b720354-e2ac-43b1-8a7d-f486d4889778",
   "metadata": {},
   "outputs": [
    {
     "name": "stderr",
     "output_type": "stream",
     "text": [
      "24/01/11 12:38:50 WARN TaskSetManager: Stage 12 contains a task of very large size (6367 KiB). The maximum recommended task size is 1000 KiB.\n",
      "[Stage 12:>                                                         (0 + 4) / 4]\r"
     ]
    },
    {
     "name": "stdout",
     "output_type": "stream",
     "text": [
      "+-------+------------------+------------------+------------------+------------------+--------------------+------------------+------------------+\n",
      "|summary|        Unnamed: 0|           user_id|          movie_id|            rating|           timestamp|       user_emb_id|      movie_emb_id|\n",
      "+-------+------------------+------------------+------------------+------------------+--------------------+------------------+------------------+\n",
      "|  count|            100411|            100411|            100411|            100411|              100411|            100411|            100411|\n",
      "|   mean|500287.28449074307|3025.4521317385547|1864.7829520670045|3.5870073995876948| 9.722195204196851E8|3024.4521317385547|1863.7829520670045|\n",
      "| stddev|288500.06560146867|1727.0310558667584| 1095.479942822121|1.1156178670634689|1.2111888165938595E7|1727.0310558667582| 1095.479942822121|\n",
      "|    min|                 3|                 1|                 1|                 1|           956704219|                 0|                 0|\n",
      "|    max|           1000206|              6040|              3952|                 5|          1046369737|              6039|              3951|\n",
      "+-------+------------------+------------------+------------------+------------------+--------------------+------------------+------------------+\n",
      "\n"
     ]
    },
    {
     "name": "stderr",
     "output_type": "stream",
     "text": [
      "                                                                                \r"
     ]
    }
   ],
   "source": [
    "main_dataset.describe().show()"
   ]
  },
  {
   "cell_type": "code",
   "execution_count": 34,
   "id": "d5658910-5fb5-4728-a026-5f569138dbf9",
   "metadata": {},
   "outputs": [],
   "source": [
    "train_data,test_data = main_dataset.randomSplit([0.7,0.3])"
   ]
  },
  {
   "cell_type": "code",
   "execution_count": 37,
   "id": "b42b8349-e03c-4ef7-acaa-554dab7236f2",
   "metadata": {},
   "outputs": [
    {
     "data": {
      "text/plain": [
       "['Unnamed: 0',\n",
       " 'user_id',\n",
       " 'movie_id',\n",
       " 'rating',\n",
       " 'timestamp',\n",
       " 'user_emb_id',\n",
       " 'movie_emb_id']"
      ]
     },
     "execution_count": 37,
     "metadata": {},
     "output_type": "execute_result"
    }
   ],
   "source": [
    "train_data.columns"
   ]
  },
  {
   "cell_type": "code",
   "execution_count": 38,
   "id": "3b5d3ae7-2306-4258-8ba1-ef7a915a7a03",
   "metadata": {},
   "outputs": [],
   "source": [
    "als = ALS(maxIter = 5, regParam=0.01, userCol='user_id', itemCol='movie_id', ratingCol='rating')"
   ]
  },
  {
   "cell_type": "code",
   "execution_count": 39,
   "id": "1c5fee46-2cdc-4d84-8326-34d3ebb92c50",
   "metadata": {},
   "outputs": [
    {
     "name": "stderr",
     "output_type": "stream",
     "text": [
      "24/01/11 12:54:09 WARN TaskSetManager: Stage 15 contains a task of very large size (6367 KiB). The maximum recommended task size is 1000 KiB.\n",
      "24/01/11 12:54:11 WARN TaskSetManager: Stage 16 contains a task of very large size (6367 KiB). The maximum recommended task size is 1000 KiB.\n",
      "24/01/11 12:54:22 WARN InstanceBuilder: Failed to load implementation from:dev.ludovic.netlib.blas.JNIBLAS\n",
      "24/01/11 12:54:22 WARN InstanceBuilder: Failed to load implementation from:dev.ludovic.netlib.lapack.JNILAPACK\n",
      "                                                                                \r"
     ]
    }
   ],
   "source": [
    "model = als.fit(train_data)"
   ]
  },
  {
   "cell_type": "code",
   "execution_count": 40,
   "id": "0e27a5df-0e78-41f9-b7d0-9c45adc4a3c1",
   "metadata": {},
   "outputs": [],
   "source": [
    "predictions = model.transform(test_data)"
   ]
  },
  {
   "cell_type": "code",
   "execution_count": 41,
   "id": "ad268c92-f4b8-477d-b08c-96d9850e66fc",
   "metadata": {},
   "outputs": [
    {
     "name": "stderr",
     "output_type": "stream",
     "text": [
      "24/01/11 12:55:20 WARN TaskSetManager: Stage 49 contains a task of very large size (6367 KiB). The maximum recommended task size is 1000 KiB.\n",
      "                                                                                \r"
     ]
    },
    {
     "name": "stdout",
     "output_type": "stream",
     "text": [
      "+----------+-------+--------+------+---------+-----------+------------+-----------+\n",
      "|Unnamed: 0|user_id|movie_id|rating|timestamp|user_emb_id|movie_emb_id| prediction|\n",
      "+----------+-------+--------+------+---------+-----------+------------+-----------+\n",
      "|        22|      1|    1270|     5|978300055|          0|        1269|  3.6493287|\n",
      "|        33|      1|     588|     4|978824268|          0|         587|  4.2211695|\n",
      "|       671|      8|    2396|     5|978229524|          7|        2395|  3.8475852|\n",
      "|       341|      5|    2725|     2|978246162|          4|        2724|    3.63661|\n",
      "|         5|      1|    1197|     3|978302268|          0|        1196|  4.2042875|\n",
      "|       286|      5|     581|     3|978244808|          4|         580|   8.951179|\n",
      "|       774|      9|      16|     4|978226599|          8|          15|  4.3396406|\n",
      "|       502|      6|    3699|     4|978236567|          5|        3698|        NaN|\n",
      "|       521|      6|    1028|     4|978237767|          5|        1027|        NaN|\n",
      "|       567|      8|     650|     5|978230943|          7|         649|  3.1854467|\n",
      "|       405|      5|    1733|     3|978246450|          4|        1732|  3.7713585|\n",
      "|       685|      8|    1673|     5|978230356|          7|        1672|  2.2676625|\n",
      "|       731|      9|     524|     4|978226599|          8|         523|  1.9030981|\n",
      "|       340|      5|    1921|     4|978246162|          4|        1920|-0.19697052|\n",
      "|       491|      6|    3682|     3|978238036|          5|        3681|        NaN|\n",
      "|       647|      8|    3259|     4|978231571|          7|        3258|  1.6646817|\n",
      "|       613|      8|    2291|     5|978229702|          7|        2290|  2.7093437|\n",
      "|        65|      2|    1792|     3|978299941|          1|        1791|  3.2076204|\n",
      "|       108|      2|     515|     5|978298542|          1|         514|  2.5374994|\n",
      "|       241|      4|    1196|     2|978294199|          3|        1195|        NaN|\n",
      "+----------+-------+--------+------+---------+-----------+------------+-----------+\n",
      "only showing top 20 rows\n",
      "\n"
     ]
    }
   ],
   "source": [
    "predictions.show()"
   ]
  },
  {
   "cell_type": "code",
   "execution_count": 42,
   "id": "0b098901-d81c-4ac7-9aab-395a53431c11",
   "metadata": {},
   "outputs": [],
   "source": [
    "evaluator = RegressionEvaluator(metricName = 'rmse', labelCol='rating', predictionCol = 'prediction')"
   ]
  },
  {
   "cell_type": "code",
   "execution_count": 43,
   "id": "f8797858-cef7-4365-a022-1c4c79ac8145",
   "metadata": {},
   "outputs": [
    {
     "name": "stderr",
     "output_type": "stream",
     "text": [
      "24/01/11 12:58:15 WARN TaskSetManager: Stage 100 contains a task of very large size (6367 KiB). The maximum recommended task size is 1000 KiB.\n",
      "                                                                                \r"
     ]
    }
   ],
   "source": [
    "rmse = evaluator.evaluate(predictions)"
   ]
  },
  {
   "cell_type": "code",
   "execution_count": 44,
   "id": "abf93c3d-520a-4680-bb11-fddb8bcc4109",
   "metadata": {},
   "outputs": [
    {
     "name": "stdout",
     "output_type": "stream",
     "text": [
      "nan\n"
     ]
    }
   ],
   "source": [
    "print(rmse)"
   ]
  },
  {
   "cell_type": "code",
   "execution_count": 51,
   "id": "f2c3b734-caeb-43f3-b165-1d9fb348c00c",
   "metadata": {},
   "outputs": [],
   "source": [
    "single_user = test_data.filter(test_data['user_id']==8).select(['movie_id','user_id','rating'])"
   ]
  },
  {
   "cell_type": "code",
   "execution_count": 52,
   "id": "6173aa98-9466-406b-96e2-07554e6d9b0c",
   "metadata": {},
   "outputs": [
    {
     "name": "stderr",
     "output_type": "stream",
     "text": [
      "24/01/11 13:02:12 WARN TaskSetManager: Stage 191 contains a task of very large size (6367 KiB). The maximum recommended task size is 1000 KiB.\n",
      "24/01/11 13:02:13 WARN TaskSetManager: Stage 192 contains a task of very large size (6569 KiB). The maximum recommended task size is 1000 KiB.\n",
      "[Stage 192:>                                                        (0 + 3) / 3]\r"
     ]
    },
    {
     "name": "stdout",
     "output_type": "stream",
     "text": [
      "+--------+-------+------+\n",
      "|movie_id|user_id|rating|\n",
      "+--------+-------+------+\n",
      "|     650|      8|     5|\n",
      "|    2291|      8|     5|\n",
      "|    3259|      8|     4|\n",
      "|    2396|      8|     5|\n",
      "|    1673|      8|     5|\n",
      "+--------+-------+------+\n",
      "\n"
     ]
    },
    {
     "name": "stderr",
     "output_type": "stream",
     "text": [
      "                                                                                \r"
     ]
    }
   ],
   "source": [
    "single_user.show()"
   ]
  },
  {
   "cell_type": "code",
   "execution_count": 49,
   "id": "7fb6d987-56e7-4951-9666-8da8a4ae326a",
   "metadata": {},
   "outputs": [],
   "source": [
    "recommendation = model.transform(single_user)"
   ]
  },
  {
   "cell_type": "code",
   "execution_count": 53,
   "id": "5748d961-d04b-4bc3-815e-f4635ce1bff8",
   "metadata": {},
   "outputs": [
    {
     "name": "stderr",
     "output_type": "stream",
     "text": [
      "24/01/11 13:02:30 WARN TaskSetManager: Stage 193 contains a task of very large size (6367 KiB). The maximum recommended task size is 1000 KiB.\n",
      "[Stage 208:======================>                                 (4 + 4) / 10]\r"
     ]
    },
    {
     "name": "stdout",
     "output_type": "stream",
     "text": [
      "+--------+-------+----------+\n",
      "|movie_id|user_id|prediction|\n",
      "+--------+-------+----------+\n",
      "|    2396|      8| 3.8475852|\n",
      "|     650|      8| 3.1854467|\n",
      "|    2291|      8| 2.7093437|\n",
      "|    1673|      8| 2.2676625|\n",
      "|    3259|      8| 1.6646817|\n",
      "+--------+-------+----------+\n",
      "\n"
     ]
    },
    {
     "name": "stderr",
     "output_type": "stream",
     "text": [
      "                                                                                \r"
     ]
    }
   ],
   "source": [
    "recommendation.orderBy('prediction',ascending=False).show()"
   ]
  },
  {
   "cell_type": "code",
   "execution_count": null,
   "id": "8e9777f5-3c0d-4391-a11f-fb9005fc4bf7",
   "metadata": {},
   "outputs": [],
   "source": []
  }
 ],
 "metadata": {
  "kernelspec": {
   "display_name": "Python 3 (ipykernel)",
   "language": "python",
   "name": "python3"
  },
  "language_info": {
   "codemirror_mode": {
    "name": "ipython",
    "version": 3
   },
   "file_extension": ".py",
   "mimetype": "text/x-python",
   "name": "python",
   "nbconvert_exporter": "python",
   "pygments_lexer": "ipython3",
   "version": "3.10.12"
  }
 },
 "nbformat": 4,
 "nbformat_minor": 5
}
