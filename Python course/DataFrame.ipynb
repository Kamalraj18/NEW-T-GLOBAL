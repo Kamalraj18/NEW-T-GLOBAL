{
 "cells": [
  {
   "cell_type": "code",
   "execution_count": 1,
   "id": "2b84f05a-b35e-46b1-b4f7-b707c9732229",
   "metadata": {},
   "outputs": [],
   "source": [
    "import findspark"
   ]
  },
  {
   "cell_type": "code",
   "execution_count": 2,
   "id": "361a5005-ccd8-493c-a57a-b1ec68718389",
   "metadata": {},
   "outputs": [],
   "source": [
    "findspark.init('/home/vboxuser/spark-3.5.0-bin-hadoop3')"
   ]
  },
  {
   "cell_type": "code",
   "execution_count": 3,
   "id": "a7207d29-84b1-46b8-89bb-cd52fd38e3c5",
   "metadata": {},
   "outputs": [],
   "source": [
    "import pyspark"
   ]
  },
  {
   "cell_type": "code",
   "execution_count": 4,
   "id": "208e75f5-f80a-412c-9e61-d1a6377a5817",
   "metadata": {},
   "outputs": [],
   "source": [
    "from pyspark.sql import SparkSession"
   ]
  },
  {
   "cell_type": "code",
   "execution_count": 5,
   "id": "6687900f-b783-435c-9990-6188da1ae364",
   "metadata": {},
   "outputs": [
    {
     "name": "stderr",
     "output_type": "stream",
     "text": [
      "Setting default log level to \"WARN\".\n",
      "To adjust logging level use sc.setLogLevel(newLevel). For SparkR, use setLogLevel(newLevel).\n",
      "24/01/10 18:40:09 WARN NativeCodeLoader: Unable to load native-hadoop library for your platform... using builtin-java classes where applicable\n"
     ]
    }
   ],
   "source": [
    "spark = SparkSession.builder.appName('Basics').getOrCreate()"
   ]
  },
  {
   "cell_type": "code",
   "execution_count": 8,
   "id": "ac71b805-3d3d-445b-aa21-50697c8f9af0",
   "metadata": {
    "scrolled": true
   },
   "outputs": [],
   "source": [
    "df = spark.read.csv('/home/vboxuser/Downloads/industry.csv')"
   ]
  },
  {
   "cell_type": "code",
   "execution_count": 9,
   "id": "46c01b1b-c8b7-4ccc-aea9-bf0d733b6a49",
   "metadata": {},
   "outputs": [
    {
     "data": {
      "text/plain": [
       "['_c0']"
      ]
     },
     "execution_count": 9,
     "metadata": {},
     "output_type": "execute_result"
    }
   ],
   "source": [
    "df.columns"
   ]
  },
  {
   "cell_type": "code",
   "execution_count": 10,
   "id": "a34f7309-090b-4288-83bf-94d189132034",
   "metadata": {},
   "outputs": [
    {
     "name": "stdout",
     "output_type": "stream",
     "text": [
      "root\n",
      " |-- _c0: string (nullable = true)\n",
      "\n"
     ]
    }
   ],
   "source": [
    "df.printSchema()"
   ]
  },
  {
   "cell_type": "code",
   "execution_count": 11,
   "id": "4fdcc42e-9d10-4ce1-a6b9-164f388dcea7",
   "metadata": {},
   "outputs": [
    {
     "data": {
      "text/plain": [
       "[Row(_c0='Industry'),\n",
       " Row(_c0='Accounting/Finance'),\n",
       " Row(_c0='Advertising/Public Relations'),\n",
       " Row(_c0='Aerospace/Aviation'),\n",
       " Row(_c0='Arts/Entertainment/Publishing')]"
      ]
     },
     "execution_count": 11,
     "metadata": {},
     "output_type": "execute_result"
    }
   ],
   "source": [
    "df.head(5)"
   ]
  },
  {
   "cell_type": "code",
   "execution_count": 12,
   "id": "1eb43ec4-f8f7-43ad-b7fd-0a6b8b7d75a5",
   "metadata": {},
   "outputs": [
    {
     "name": "stdout",
     "output_type": "stream",
     "text": [
      "+-------+--------------------+\n",
      "|summary|                 _c0|\n",
      "+-------+--------------------+\n",
      "|  count|                  44|\n",
      "|   mean|                NULL|\n",
      "| stddev|                NULL|\n",
      "|    min|  Accounting/Finance|\n",
      "|    max|Transportation/Lo...|\n",
      "+-------+--------------------+\n",
      "\n"
     ]
    }
   ],
   "source": [
    "df.describe().show()"
   ]
  },
  {
   "cell_type": "code",
   "execution_count": null,
   "id": "bcb34729-ee97-4aff-a789-512c9514b160",
   "metadata": {},
   "outputs": [],
   "source": []
  }
 ],
 "metadata": {
  "kernelspec": {
   "display_name": "Python 3 (ipykernel)",
   "language": "python",
   "name": "python3"
  },
  "language_info": {
   "codemirror_mode": {
    "name": "ipython",
    "version": 3
   },
   "file_extension": ".py",
   "mimetype": "text/x-python",
   "name": "python",
   "nbconvert_exporter": "python",
   "pygments_lexer": "ipython3",
   "version": "3.10.12"
  }
 },
 "nbformat": 4,
 "nbformat_minor": 5
}
