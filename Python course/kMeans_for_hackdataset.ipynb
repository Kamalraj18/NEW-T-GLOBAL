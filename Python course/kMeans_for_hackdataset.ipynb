{
 "cells": [
  {
   "cell_type": "code",
   "execution_count": 1,
   "id": "e82115a8-c1b8-4ca4-8bbd-52f20d7f71a2",
   "metadata": {},
   "outputs": [],
   "source": [
    " import findspark"
   ]
  },
  {
   "cell_type": "code",
   "execution_count": 3,
   "id": "364ad4f4-5666-4efc-8d73-02c01c33fec8",
   "metadata": {},
   "outputs": [],
   "source": [
    "findspark.init('/home/vboxuser/spark-3.5.0-bin-hadoop3')"
   ]
  },
  {
   "cell_type": "code",
   "execution_count": 4,
   "id": "2a0d581b-23dd-459a-84b9-c17837882569",
   "metadata": {},
   "outputs": [],
   "source": [
    "import pyspark"
   ]
  },
  {
   "cell_type": "code",
   "execution_count": 10,
   "id": "f4ee0e59-365c-4fa1-8a86-76aa209abb68",
   "metadata": {},
   "outputs": [],
   "source": [
    "from pyspark.sql import SparkSession"
   ]
  },
  {
   "cell_type": "code",
   "execution_count": 11,
   "id": "e8495943-1209-4ef2-802c-245217cbc30a",
   "metadata": {},
   "outputs": [],
   "source": [
    "spark = SparkSession.builder.appName('cluster').getOrCreate()"
   ]
  },
  {
   "cell_type": "code",
   "execution_count": 13,
   "id": "b881a514-0bb0-4877-82ad-d17df72d9cde",
   "metadata": {},
   "outputs": [],
   "source": [
    "dataset =  spark.read.csv('/home/vboxuser/Downloads/hack_data.csv' ,header=True, inferSchema = True)"
   ]
  },
  {
   "cell_type": "code",
   "execution_count": 14,
   "id": "221d0651-7499-45de-9851-e2c57652d5a6",
   "metadata": {},
   "outputs": [
    {
     "name": "stdout",
     "output_type": "stream",
     "text": [
      "root\n",
      " |-- Session_Connection_Time: double (nullable = true)\n",
      " |-- Bytes Transferred: double (nullable = true)\n",
      " |-- Kali_Trace_Used: integer (nullable = true)\n",
      " |-- Servers_Corrupted: double (nullable = true)\n",
      " |-- Pages_Corrupted: double (nullable = true)\n",
      " |-- Location: string (nullable = true)\n",
      " |-- WPM_Typing_Speed: double (nullable = true)\n",
      "\n"
     ]
    }
   ],
   "source": [
    "dataset.printSchema()"
   ]
  },
  {
   "cell_type": "code",
   "execution_count": 15,
   "id": "77895850-c719-4be4-a94c-495788149eb2",
   "metadata": {},
   "outputs": [
    {
     "data": {
      "text/plain": [
       "['Session_Connection_Time',\n",
       " 'Bytes Transferred',\n",
       " 'Kali_Trace_Used',\n",
       " 'Servers_Corrupted',\n",
       " 'Pages_Corrupted',\n",
       " 'Location',\n",
       " 'WPM_Typing_Speed']"
      ]
     },
     "execution_count": 15,
     "metadata": {},
     "output_type": "execute_result"
    }
   ],
   "source": [
    "dataset.columns"
   ]
  },
  {
   "cell_type": "code",
   "execution_count": 16,
   "id": "7cd2fdaf-5ee6-4edf-8084-f5a1a1eac1a9",
   "metadata": {},
   "outputs": [],
   "source": [
    "from pyspark.ml.clustering import KMeans"
   ]
  },
  {
   "cell_type": "code",
   "execution_count": 17,
   "id": "a14971d1-7be4-4e1b-bd90-5d4290816a0d",
   "metadata": {},
   "outputs": [],
   "source": [
    "feat_cols = ['Session_Connection_Time',\n",
    " 'Bytes Transferred',\n",
    " 'Kali_Trace_Used',\n",
    " 'Servers_Corrupted',\n",
    " 'Pages_Corrupted',\n",
    " 'WPM_Typing_Speed']"
   ]
  },
  {
   "cell_type": "code",
   "execution_count": 19,
   "id": "81364904-7ed4-448b-a570-4e1d786cafc1",
   "metadata": {},
   "outputs": [],
   "source": [
    "from pyspark.ml.linalg import Vectors\n",
    "from pyspark.ml.feature import VectorAssembler"
   ]
  },
  {
   "cell_type": "code",
   "execution_count": 20,
   "id": "5314867f-5e10-44d4-b646-7bd670be8fe7",
   "metadata": {},
   "outputs": [],
   "source": [
    "assesmbler = VectorAssembler(inputCols = feat_cols, outputCol='features')"
   ]
  },
  {
   "cell_type": "code",
   "execution_count": 22,
   "id": "c3e0e291-8955-4160-8036-7424ac676019",
   "metadata": {},
   "outputs": [],
   "source": [
    "final_data = assesmbler.transform(dataset)"
   ]
  },
  {
   "cell_type": "code",
   "execution_count": 23,
   "id": "a8504de7-a0f0-41c8-a5bf-9438a0caf6c5",
   "metadata": {},
   "outputs": [
    {
     "name": "stdout",
     "output_type": "stream",
     "text": [
      "root\n",
      " |-- Session_Connection_Time: double (nullable = true)\n",
      " |-- Bytes Transferred: double (nullable = true)\n",
      " |-- Kali_Trace_Used: integer (nullable = true)\n",
      " |-- Servers_Corrupted: double (nullable = true)\n",
      " |-- Pages_Corrupted: double (nullable = true)\n",
      " |-- Location: string (nullable = true)\n",
      " |-- WPM_Typing_Speed: double (nullable = true)\n",
      " |-- features: vector (nullable = true)\n",
      "\n"
     ]
    }
   ],
   "source": [
    "final_data.printSchema()"
   ]
  },
  {
   "cell_type": "code",
   "execution_count": 24,
   "id": "b6bbfd76-c9e4-45d1-97aa-b4c87c3dc64c",
   "metadata": {},
   "outputs": [],
   "source": [
    "from pyspark.ml.feature import StandardScaler"
   ]
  },
  {
   "cell_type": "code",
   "execution_count": 25,
   "id": "aacf3f0c-c5db-4803-bd1c-6e39730d123d",
   "metadata": {},
   "outputs": [],
   "source": [
    "scaler = StandardScaler(inputCol = 'features', outputCol='scaledfeatures')"
   ]
  },
  {
   "cell_type": "code",
   "execution_count": 27,
   "id": "2e9ca213-27b9-4dd6-94d1-8383901b8b18",
   "metadata": {},
   "outputs": [],
   "source": [
    "scaler_model = scaler.fit(final_data)\n",
    "cluster_final_data = scaler_model.transform(final_data)"
   ]
  },
  {
   "cell_type": "code",
   "execution_count": 28,
   "id": "48af843a-c9da-4573-b135-c64c8a8afba3",
   "metadata": {},
   "outputs": [
    {
     "name": "stdout",
     "output_type": "stream",
     "text": [
      "root\n",
      " |-- Session_Connection_Time: double (nullable = true)\n",
      " |-- Bytes Transferred: double (nullable = true)\n",
      " |-- Kali_Trace_Used: integer (nullable = true)\n",
      " |-- Servers_Corrupted: double (nullable = true)\n",
      " |-- Pages_Corrupted: double (nullable = true)\n",
      " |-- Location: string (nullable = true)\n",
      " |-- WPM_Typing_Speed: double (nullable = true)\n",
      " |-- features: vector (nullable = true)\n",
      " |-- scaledfeatures: vector (nullable = true)\n",
      "\n"
     ]
    }
   ],
   "source": [
    "cluster_final_data.printSchema()"
   ]
  },
  {
   "cell_type": "code",
   "execution_count": 32,
   "id": "e8309946-2f7f-4e62-860d-77cb2436e166",
   "metadata": {},
   "outputs": [],
   "source": [
    "kmeans2 = KMeans(featuresCol='scaledfeatures',k=2)\n",
    "kmeans3 = KMeans(featuresCol='scaledfeatures',k=3)"
   ]
  },
  {
   "cell_type": "code",
   "execution_count": 33,
   "id": "5fc463f0-4d39-4410-8f4b-20b6d0ac0467",
   "metadata": {},
   "outputs": [
    {
     "name": "stderr",
     "output_type": "stream",
     "text": [
      "24/01/11 11:53:24 WARN InstanceBuilder: Failed to load implementation from:dev.ludovic.netlib.blas.JNIBLAS\n"
     ]
    }
   ],
   "source": [
    "model_k2=kmeans2.fit(cluster_final_data)\n",
    "model_k3=kmeans3.fit(cluster_final_data)"
   ]
  },
  {
   "cell_type": "code",
   "execution_count": 36,
   "id": "c1e632be-90dc-4882-9f66-98bdb1a42526",
   "metadata": {},
   "outputs": [
    {
     "name": "stdout",
     "output_type": "stream",
     "text": [
      "+----------+-----+\n",
      "|prediction|count|\n",
      "+----------+-----+\n",
      "|         1|   83|\n",
      "|         2|   84|\n",
      "|         0|  167|\n",
      "+----------+-----+\n",
      "\n"
     ]
    }
   ],
   "source": [
    "model_k3.transform(cluster_final_data).groupBy('prediction').count().show()"
   ]
  },
  {
   "cell_type": "code",
   "execution_count": 37,
   "id": "e43832a0-e218-44f0-a923-0a1295b95498",
   "metadata": {},
   "outputs": [
    {
     "name": "stdout",
     "output_type": "stream",
     "text": [
      "+----------+-----+\n",
      "|prediction|count|\n",
      "+----------+-----+\n",
      "|         1|  167|\n",
      "|         0|  167|\n",
      "+----------+-----+\n",
      "\n"
     ]
    }
   ],
   "source": [
    "model_k2.transform(cluster_final_data).groupBy('prediction').count().show()"
   ]
  },
  {
   "cell_type": "code",
   "execution_count": null,
   "id": "a35bf8f5-8979-4123-ba45-a5fb542f0fd8",
   "metadata": {},
   "outputs": [],
   "source": []
  }
 ],
 "metadata": {
  "kernelspec": {
   "display_name": "Python 3 (ipykernel)",
   "language": "python",
   "name": "python3"
  },
  "language_info": {
   "codemirror_mode": {
    "name": "ipython",
    "version": 3
   },
   "file_extension": ".py",
   "mimetype": "text/x-python",
   "name": "python",
   "nbconvert_exporter": "python",
   "pygments_lexer": "ipython3",
   "version": "3.10.12"
  }
 },
 "nbformat": 4,
 "nbformat_minor": 5
}
